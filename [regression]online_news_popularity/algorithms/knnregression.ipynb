{
 "cells": [
  {
   "cell_type": "code",
   "execution_count": 149,
   "metadata": {},
   "outputs": [],
   "source": [
    "import pandas as pd\n",
    "import numpy as np\n",
    "import seaborn as sns\n",
    "import matplotlib.pyplot as plt\n",
    "plt.style.use('ggplot')\n",
    "from sklearn.model_selection import train_test_split"
   ]
  },
  {
   "cell_type": "code",
   "execution_count": 150,
   "metadata": {},
   "outputs": [
    {
     "name": "stdout",
     "output_type": "stream",
     "text": [
      "<class 'pandas.core.frame.DataFrame'>\n",
      "RangeIndex: 39050 entries, 0 to 39049\n",
      "Data columns (total 41 columns):\n",
      "n_tokens_title                  39050 non-null float64\n",
      "n_tokens_content                39050 non-null float64\n",
      "n_unique_tokens                 39050 non-null float64\n",
      "n_non_stop_unique_tokens        39050 non-null float64\n",
      "num_hrefs                       39050 non-null float64\n",
      "num_self_hrefs                  39050 non-null float64\n",
      "num_imgs                        39050 non-null float64\n",
      "average_token_length            39050 non-null float64\n",
      "num_keywords                    39050 non-null float64\n",
      "kw_max_min                      39050 non-null float64\n",
      "kw_avg_min                      39050 non-null float64\n",
      "kw_min_max                      39050 non-null float64\n",
      "kw_avg_max                      39050 non-null float64\n",
      "kw_min_avg                      39050 non-null float64\n",
      "kw_max_avg                      39050 non-null float64\n",
      "kw_avg_avg                      39050 non-null float64\n",
      "self_reference_min_shares       39050 non-null float64\n",
      "self_reference_max_shares       39050 non-null float64\n",
      "self_reference_avg_sharess      39050 non-null float64\n",
      "LDA_00                          39050 non-null float64\n",
      "LDA_01                          39050 non-null float64\n",
      "LDA_02                          39050 non-null float64\n",
      "LDA_03                          39050 non-null float64\n",
      "LDA_04                          39050 non-null float64\n",
      "global_subjectivity             39050 non-null float64\n",
      "global_sentiment_polarity       39050 non-null float64\n",
      "global_rate_positive_words      39050 non-null float64\n",
      "global_rate_negative_words      39050 non-null float64\n",
      "rate_positive_words             39050 non-null float64\n",
      "rate_negative_words             39050 non-null float64\n",
      "avg_positive_polarity           39050 non-null float64\n",
      "min_positive_polarity           39050 non-null float64\n",
      "max_positive_polarity           39050 non-null float64\n",
      "avg_negative_polarity           39050 non-null float64\n",
      "min_negative_polarity           39050 non-null float64\n",
      "max_negative_polarity           39050 non-null float64\n",
      "title_subjectivity              39050 non-null float64\n",
      "title_sentiment_polarity        39050 non-null float64\n",
      "abs_title_subjectivity          39050 non-null float64\n",
      "abs_title_sentiment_polarity    39050 non-null float64\n",
      "shares                          39050 non-null int64\n",
      "dtypes: float64(40), int64(1)\n",
      "memory usage: 12.2 MB\n"
     ]
    }
   ],
   "source": [
    "df_original = pd.read_csv('../clean_dataset.csv', sep=',', header=0)\n",
    "df = pd.DataFrame(data=df_original)\n",
    "sns.set(style=\"ticks\", color_codes=True)\n",
    "\n",
    "df.info()"
   ]
  },
  {
   "cell_type": "code",
   "execution_count": 154,
   "metadata": {},
   "outputs": [
    {
     "name": "stdout",
     "output_type": "stream",
     "text": [
      "<class 'pandas.core.frame.DataFrame'>\n",
      "RangeIndex: 39050 entries, 0 to 39049\n",
      "Data columns (total 40 columns):\n",
      "n_tokens_title                  39050 non-null float64\n",
      "n_tokens_content                39050 non-null float64\n",
      "n_unique_tokens                 39050 non-null float64\n",
      "n_non_stop_unique_tokens        39050 non-null float64\n",
      "num_hrefs                       39050 non-null float64\n",
      "num_self_hrefs                  39050 non-null float64\n",
      "num_imgs                        39050 non-null float64\n",
      "average_token_length            39050 non-null float64\n",
      "num_keywords                    39050 non-null float64\n",
      "kw_max_min                      39050 non-null float64\n",
      "kw_avg_min                      39050 non-null float64\n",
      "kw_min_max                      39050 non-null float64\n",
      "kw_avg_max                      39050 non-null float64\n",
      "kw_min_avg                      39050 non-null float64\n",
      "kw_max_avg                      39050 non-null float64\n",
      "kw_avg_avg                      39050 non-null float64\n",
      "self_reference_min_shares       39050 non-null float64\n",
      "self_reference_max_shares       39050 non-null float64\n",
      "self_reference_avg_sharess      39050 non-null float64\n",
      "LDA_00                          39050 non-null float64\n",
      "LDA_01                          39050 non-null float64\n",
      "LDA_02                          39050 non-null float64\n",
      "LDA_03                          39050 non-null float64\n",
      "LDA_04                          39050 non-null float64\n",
      "global_subjectivity             39050 non-null float64\n",
      "global_sentiment_polarity       39050 non-null float64\n",
      "global_rate_positive_words      39050 non-null float64\n",
      "global_rate_negative_words      39050 non-null float64\n",
      "rate_positive_words             39050 non-null float64\n",
      "rate_negative_words             39050 non-null float64\n",
      "avg_positive_polarity           39050 non-null float64\n",
      "min_positive_polarity           39050 non-null float64\n",
      "max_positive_polarity           39050 non-null float64\n",
      "avg_negative_polarity           39050 non-null float64\n",
      "min_negative_polarity           39050 non-null float64\n",
      "max_negative_polarity           39050 non-null float64\n",
      "title_subjectivity              39050 non-null float64\n",
      "title_sentiment_polarity        39050 non-null float64\n",
      "abs_title_subjectivity          39050 non-null float64\n",
      "abs_title_sentiment_polarity    39050 non-null float64\n",
      "dtypes: float64(40)\n",
      "memory usage: 11.9 MB\n"
     ]
    }
   ],
   "source": [
    "features = df[[c for c in df if (c != \"shares\")]]\n",
    "#features = df[[c for c in df if (c == 'kw_avg_avg') or (c == 'LDA_03') or (c == 'kw_max_avg')]]\n",
    "target = df[\"shares\"]\n",
    "\n",
    "#features = list(zip(df['kw_avg_avg'], df['LDA_03'], df['kw_max_avg'], df['self_reference_avg_sharess'], df['self_reference_min_shares'], df['self_reference_max_shares']))\n",
    "#target = np.array(df['shares'])\n",
    "\n",
    "X_train, X_test, Y_train, Y_test = train_test_split(features, target, test_size=0.3, random_state=12)\n",
    "\n",
    "features.info()"
   ]
  },
  {
   "cell_type": "code",
   "execution_count": 170,
   "metadata": {},
   "outputs": [
    {
     "name": "stdout",
     "output_type": "stream",
     "text": [
      "mean_squared_error 10601203.927783\n",
      "mean_absolute_error 1874.624944\n",
      "explained_variance_score 0.031762\n",
      "r2_score 0.029818 \n"
     ]
    }
   ],
   "source": [
    "from sklearn.neighbors import KNeighborsRegressor\n",
    "from sklearn.metrics import r2_score, mean_squared_error, mean_absolute_error, explained_variance_score\n",
    "\n",
    "knn = KNeighborsRegressor(n_neighbors=70, weights=\"uniform\", algorithm='auto')\n",
    "model = knn.fit(X_train, Y_train)\n",
    "score = knn.score(X_train, Y_train)\n",
    "\n",
    "predicted = model.predict(X_test)\n",
    "\n",
    "print('mean_squared_error %f' % mean_squared_error(Y_test, predicted))\n",
    "print('mean_absolute_error %f' % mean_absolute_error(Y_test, predicted))\n",
    "print('explained_variance_score %f' % explained_variance_score(Y_test, predicted))\n",
    "print('r2_score %f ' % r2_score(Y_test, predicted))"
   ]
  },
  {
   "cell_type": "code",
   "execution_count": 161,
   "metadata": {
    "scrolled": false
   },
   "outputs": [
    {
     "data": {
      "text/plain": [
       "[<matplotlib.lines.Line2D at 0x7fb407fe0ef0>]"
      ]
     },
     "execution_count": 161,
     "metadata": {},
     "output_type": "execute_result"
    },
    {
     "data": {
      "image/png": "[encoded data removed]",
      "text/plain": [
       "<Figure size 432x288 with 1 Axes>"
      ]
     },
     "metadata": {},
     "output_type": "display_data"
    }
   ],
   "source": [
    "plt.plot(np.linspace(-1, 1, 200), Y_test[:200], label='data', color='black')\n",
    "plt.plot(np.linspace(-1, 1, 200), predicted[:200], label='predicted', color='red')"
   ]
  },
  {
   "cell_type": "code",
   "execution_count": null,
   "metadata": {},
   "outputs": [],
   "source": []
  },
  {
   "cell_type": "code",
   "execution_count": null,
   "metadata": {},
   "outputs": [],
   "source": []
  },
  {
   "cell_type": "code",
   "execution_count": null,
   "metadata": {},
   "outputs": [],
   "source": []
  },
  {
   "cell_type": "code",
   "execution_count": null,
   "metadata": {},
   "outputs": [],
   "source": []
  },
  {
   "cell_type": "code",
   "execution_count": null,
   "metadata": {},
   "outputs": [],
   "source": []
  }
 ],
 "metadata": {
  "kernelspec": {
   "display_name": "Python 3",
   "language": "python",
   "name": "python3"
  },
  "language_info": {
   "codemirror_mode": {
    "name": "ipython",
    "version": 3
   },
   "file_extension": ".py",
   "mimetype": "text/x-python",
   "name": "python",
   "nbconvert_exporter": "python",
   "pygments_lexer": "ipython3",
   "version": "3.6.7"
  }
 },
 "nbformat": 4,
 "nbformat_minor": 2
}
