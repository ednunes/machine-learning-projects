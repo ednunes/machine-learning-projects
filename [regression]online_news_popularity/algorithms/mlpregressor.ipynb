{
 "cells": [
  {
   "cell_type": "markdown",
   "metadata": {},
   "source": [
    "## [MLP Regressor](http://scikit-learn.org/stable/modules/generated/sklearn.neural_network.MLPRegressor.html)"
   ]
  },
  {
   "cell_type": "code",
   "execution_count": 1,
   "metadata": {},
   "outputs": [],
   "source": [
    "# imports\n",
    "import pandas as pd\n",
    "import numpy as np\n",
    "import seaborn as sns\n",
    "import matplotlib.pyplot as plt\n",
    "plt.style.use('ggplot')\n",
    "\n",
    "from sklearn.model_selection import train_test_split\n",
    "from sklearn.metrics import mean_absolute_error, mean_squared_error, explained_variance_score, r2_score"
   ]
  },
  {
   "cell_type": "code",
   "execution_count": 2,
   "metadata": {},
   "outputs": [],
   "source": [
    "df_original = pd.read_csv('../clean_dataset.csv', sep=',', header=0)\n",
    "df = pd.DataFrame(data=df_original)\n",
    "sns.set(style=\"ticks\", color_codes=True)"
   ]
  },
  {
   "cell_type": "code",
   "execution_count": 3,
   "metadata": {},
   "outputs": [],
   "source": [
    "# define data and target\n",
    "features = df[[c for c in df if c != \"shares\"]]\n",
    "target = df[\"shares\"]\n",
    "\n",
    "# separe train and test\n",
    "X_train, X_test, Y_train, Y_test = train_test_split(features, target, test_size=0.3, random_state=12)"
   ]
  },
  {
   "cell_type": "code",
   "execution_count": 4,
   "metadata": {},
   "outputs": [
    {
     "name": "stdout",
     "output_type": "stream",
     "text": [
      "[4571.75876363 1775.83898566 2185.64976599 ... 2425.73270368 3957.4992652\n",
      " 1823.84876058]\n",
      "18881     1800\n",
      "29032     1500\n",
      "23400     1300\n",
      "15721     1600\n",
      "26859      617\n",
      "11991     1400\n",
      "17402     1800\n",
      "15152     1500\n",
      "19639     1100\n",
      "28746    11100\n",
      "2220      2100\n",
      "18133     1100\n",
      "37366     1400\n",
      "37380      581\n",
      "20243     1500\n",
      "10811     1600\n",
      "18267      766\n",
      "30024     1800\n",
      "25033    24500\n",
      "1003       527\n",
      "23781     1800\n",
      "20184     9700\n",
      "19483     4000\n",
      "14344      795\n",
      "25712     2000\n",
      "25470     2500\n",
      "17875      899\n",
      "35900       91\n",
      "27768     1800\n",
      "19665      461\n",
      "         ...  \n",
      "15167     1800\n",
      "13748      902\n",
      "33249     1300\n",
      "13175     1500\n",
      "127       6000\n",
      "2852       416\n",
      "32595     2900\n",
      "32881     3200\n",
      "1855       886\n",
      "28836     1600\n",
      "4609       934\n",
      "21462      952\n",
      "6777       891\n",
      "8384      1700\n",
      "5627      2300\n",
      "28940     4400\n",
      "886       1000\n",
      "14182     4300\n",
      "11262      820\n",
      "18984      809\n",
      "11930     5000\n",
      "31835     2500\n",
      "27005      583\n",
      "18889     1700\n",
      "30702    11800\n",
      "18663     1100\n",
      "8388      1300\n",
      "30704      764\n",
      "17289     1100\n",
      "7411       729\n",
      "Name: shares, Length: 11715, dtype: int64\n"
     ]
    }
   ],
   "source": [
    "from sklearn.neural_network import MLPRegressor\n",
    "\n",
    "mpl = MLPRegressor(hidden_layer_sizes=(30,30,30),alpha=1.0)\n",
    "model = mpl.fit(X_train, Y_train)\n",
    "score = mpl.score(X_train, Y_train)\n",
    "predicted = model.predict(X_test)\n",
    "\n",
    "print(predicted)\n",
    "print(Y_test)"
   ]
  },
  {
   "cell_type": "code",
   "execution_count": 5,
   "metadata": {
    "scrolled": false
   },
   "outputs": [
    {
     "data": {
      "text/plain": [
       "[<matplotlib.lines.Line2D at 0x7f49a2f1f890>]"
      ]
     },
     "execution_count": 5,
     "metadata": {},
     "output_type": "execute_result"
    },
    {
     "data": {
      "image/png": "[encoded data removed]",
      "text/plain": [
       "<Figure size 432x288 with 1 Axes>"
      ]
     },
     "metadata": {},
     "output_type": "display_data"
    }
   ],
   "source": [
    "plt.plot(np.linspace(-1, 1, 100), Y_test[:100], label='data', color='black')\n",
    "plt.plot(np.linspace(-1, 1, 100), predicted[:100], label='predicted', color='red')"
   ]
  },
  {
   "cell_type": "code",
   "execution_count": 6,
   "metadata": {},
   "outputs": [
    {
     "name": "stdout",
     "output_type": "stream",
     "text": [
      "mean_squared_error 10297483.892650\n",
      "mean_absolute_error 1882.359223\n",
      "explained_variance_score 0.057646\n",
      "r2_score 0.057614 \n"
     ]
    }
   ],
   "source": [
    "print('mean_squared_error %f' % mean_squared_error(Y_test, predicted))\n",
    "print('mean_absolute_error %f' % mean_absolute_error(Y_test, predicted))\n",
    "print('explained_variance_score %f' % explained_variance_score(Y_test, predicted))\n",
    "print('r2_score %f ' % r2_score(Y_test, predicted))"
   ]
  },
  {
   "cell_type": "code",
   "execution_count": 7,
   "metadata": {},
   "outputs": [],
   "source": [
    "mpl = MLPRegressor(random_state=0)\n",
    "model = mpl.fit(X_train, Y_train)\n",
    "score = mpl.score(X_train, Y_train)\n",
    "predicted = model.predict(X_test)"
   ]
  },
  {
   "cell_type": "code",
   "execution_count": 8,
   "metadata": {},
   "outputs": [
    {
     "name": "stdout",
     "output_type": "stream",
     "text": [
      "mean_squared_error 10478683.425271\n",
      "mean_absolute_error 1983.060122\n",
      "explained_variance_score 0.042503\n",
      "r2_score 0.041031 \n"
     ]
    }
   ],
   "source": [
    "print('mean_squared_error %f' % mean_squared_error(Y_test, predicted))\n",
    "print('mean_absolute_error %f' % mean_absolute_error(Y_test, predicted))\n",
    "print('explained_variance_score %f' % explained_variance_score(Y_test, predicted))\n",
    "print('r2_score %f ' % r2_score(Y_test, predicted))"
   ]
  },
  {
   "cell_type": "code",
   "execution_count": 9,
   "metadata": {},
   "outputs": [],
   "source": [
    "mpl = MLPRegressor(solver='lbfgs', hidden_layer_sizes=50,\n",
    "            max_iter=150, shuffle=True, random_state=1)\n",
    "model = mpl.fit(X_train, Y_train)\n",
    "score = mpl.score(X_train, Y_train)\n",
    "predicted = model.predict(X_test)"
   ]
  },
  {
   "cell_type": "code",
   "execution_count": 10,
   "metadata": {},
   "outputs": [
    {
     "name": "stdout",
     "output_type": "stream",
     "text": [
      "mean_squared_error 10443603.466605\n",
      "mean_absolute_error 1848.223687\n",
      "explained_variance_score 0.046642\n",
      "r2_score 0.044241 \n"
     ]
    }
   ],
   "source": [
    "print('mean_squared_error %f' % mean_squared_error(Y_test, predicted))\n",
    "print('mean_absolute_error %f' % mean_absolute_error(Y_test, predicted))\n",
    "print('explained_variance_score %f' % explained_variance_score(Y_test, predicted))\n",
    "print('r2_score %f ' % r2_score(Y_test, predicted))"
   ]
  }
 ],
 "metadata": {
  "kernelspec": {
   "display_name": "Python 3",
   "language": "python",
   "name": "python3"
  },
  "language_info": {
   "codemirror_mode": {
    "name": "ipython",
    "version": 2
   },
   "file_extension": ".py",
   "mimetype": "text/x-python",
   "name": "python",
   "nbconvert_exporter": "python",
   "pygments_lexer": "ipython2",
   "version": "2.7.13"
  }
 },
 "nbformat": 4,
 "nbformat_minor": 2
}
