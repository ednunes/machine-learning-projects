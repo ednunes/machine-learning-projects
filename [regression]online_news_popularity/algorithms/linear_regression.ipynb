{
 "cells": [
  {
   "cell_type": "code",
   "execution_count": 1,
   "metadata": {},
   "outputs": [],
   "source": [
    "import functools\n",
    "import pandas as pd\n",
    "import numpy as np\n",
    "import seaborn as sns\n",
    "import matplotlib.pyplot as plt \n",
    "plt.style.use('ggplot')"
   ]
  },
  {
   "cell_type": "code",
   "execution_count": 2,
   "metadata": {},
   "outputs": [
    {
     "name": "stdout",
     "output_type": "stream",
     "text": [
      "<class 'pandas.core.frame.DataFrame'>\n",
      "RangeIndex: 39050 entries, 0 to 39049\n",
      "Data columns (total 41 columns):\n",
      "n_tokens_title                  39050 non-null float64\n",
      "n_tokens_content                39050 non-null float64\n",
      "n_unique_tokens                 39050 non-null float64\n",
      "n_non_stop_unique_tokens        39050 non-null float64\n",
      "num_hrefs                       39050 non-null float64\n",
      "num_self_hrefs                  39050 non-null float64\n",
      "num_imgs                        39050 non-null float64\n",
      "average_token_length            39050 non-null float64\n",
      "num_keywords                    39050 non-null float64\n",
      "kw_max_min                      39050 non-null float64\n",
      "kw_avg_min                      39050 non-null float64\n",
      "kw_min_max                      39050 non-null float64\n",
      "kw_avg_max                      39050 non-null float64\n",
      "kw_min_avg                      39050 non-null float64\n",
      "kw_max_avg                      39050 non-null float64\n",
      "kw_avg_avg                      39050 non-null float64\n",
      "self_reference_min_shares       39050 non-null float64\n",
      "self_reference_max_shares       39050 non-null float64\n",
      "self_reference_avg_sharess      39050 non-null float64\n",
      "LDA_00                          39050 non-null float64\n",
      "LDA_01                          39050 non-null float64\n",
      "LDA_02                          39050 non-null float64\n",
      "LDA_03                          39050 non-null float64\n",
      "LDA_04                          39050 non-null float64\n",
      "global_subjectivity             39050 non-null float64\n",
      "global_sentiment_polarity       39050 non-null float64\n",
      "global_rate_positive_words      39050 non-null float64\n",
      "global_rate_negative_words      39050 non-null float64\n",
      "rate_positive_words             39050 non-null float64\n",
      "rate_negative_words             39050 non-null float64\n",
      "avg_positive_polarity           39050 non-null float64\n",
      "min_positive_polarity           39050 non-null float64\n",
      "max_positive_polarity           39050 non-null float64\n",
      "avg_negative_polarity           39050 non-null float64\n",
      "min_negative_polarity           39050 non-null float64\n",
      "max_negative_polarity           39050 non-null float64\n",
      "title_subjectivity              39050 non-null float64\n",
      "title_sentiment_polarity        39050 non-null float64\n",
      "abs_title_subjectivity          39050 non-null float64\n",
      "abs_title_sentiment_polarity    39050 non-null float64\n",
      "shares                          39050 non-null int64\n",
      "dtypes: float64(40), int64(1)\n",
      "memory usage: 12.2 MB\n"
     ]
    }
   ],
   "source": [
    "data = pd.read_csv('../clean_dataset.csv', sep=',', header=0)\n",
    "data.info()"
   ]
  },
  {
   "cell_type": "code",
   "execution_count": 3,
   "metadata": {},
   "outputs": [
    {
     "data": {
      "text/html": [
       "<div>\n",
       "<style scoped>\n",
       "    .dataframe tbody tr th:only-of-type {\n",
       "        vertical-align: middle;\n",
       "    }\n",
       "\n",
       "    .dataframe tbody tr th {\n",
       "        vertical-align: top;\n",
       "    }\n",
       "\n",
       "    .dataframe thead th {\n",
       "        text-align: right;\n",
       "    }\n",
       "</style>\n",
       "<table border=\"1\" class=\"dataframe\">\n",
       "  <thead>\n",
       "    <tr style=\"text-align: right;\">\n",
       "      <th></th>\n",
       "      <th>n_tokens_title</th>\n",
       "      <th>n_tokens_content</th>\n",
       "      <th>n_unique_tokens</th>\n",
       "      <th>n_non_stop_unique_tokens</th>\n",
       "      <th>num_hrefs</th>\n",
       "      <th>num_self_hrefs</th>\n",
       "      <th>num_imgs</th>\n",
       "      <th>average_token_length</th>\n",
       "      <th>num_keywords</th>\n",
       "      <th>kw_max_min</th>\n",
       "      <th>...</th>\n",
       "      <th>min_positive_polarity</th>\n",
       "      <th>max_positive_polarity</th>\n",
       "      <th>avg_negative_polarity</th>\n",
       "      <th>min_negative_polarity</th>\n",
       "      <th>max_negative_polarity</th>\n",
       "      <th>title_subjectivity</th>\n",
       "      <th>title_sentiment_polarity</th>\n",
       "      <th>abs_title_subjectivity</th>\n",
       "      <th>abs_title_sentiment_polarity</th>\n",
       "      <th>shares</th>\n",
       "    </tr>\n",
       "  </thead>\n",
       "  <tbody>\n",
       "    <tr>\n",
       "      <th>0</th>\n",
       "      <td>12.0</td>\n",
       "      <td>219.0</td>\n",
       "      <td>0.663594</td>\n",
       "      <td>0.815385</td>\n",
       "      <td>4.0</td>\n",
       "      <td>2.0</td>\n",
       "      <td>1.0</td>\n",
       "      <td>4.680365</td>\n",
       "      <td>5.0</td>\n",
       "      <td>0.0</td>\n",
       "      <td>...</td>\n",
       "      <td>0.100000</td>\n",
       "      <td>0.7</td>\n",
       "      <td>-0.350000</td>\n",
       "      <td>-0.600</td>\n",
       "      <td>-0.200000</td>\n",
       "      <td>0.500000</td>\n",
       "      <td>-0.187500</td>\n",
       "      <td>0.000000</td>\n",
       "      <td>0.187500</td>\n",
       "      <td>593</td>\n",
       "    </tr>\n",
       "    <tr>\n",
       "      <th>1</th>\n",
       "      <td>9.0</td>\n",
       "      <td>255.0</td>\n",
       "      <td>0.604743</td>\n",
       "      <td>0.791946</td>\n",
       "      <td>3.0</td>\n",
       "      <td>1.0</td>\n",
       "      <td>1.0</td>\n",
       "      <td>4.913725</td>\n",
       "      <td>4.0</td>\n",
       "      <td>0.0</td>\n",
       "      <td>...</td>\n",
       "      <td>0.033333</td>\n",
       "      <td>0.7</td>\n",
       "      <td>-0.118750</td>\n",
       "      <td>-0.125</td>\n",
       "      <td>-0.100000</td>\n",
       "      <td>0.000000</td>\n",
       "      <td>0.000000</td>\n",
       "      <td>0.500000</td>\n",
       "      <td>0.000000</td>\n",
       "      <td>711</td>\n",
       "    </tr>\n",
       "    <tr>\n",
       "      <th>2</th>\n",
       "      <td>9.0</td>\n",
       "      <td>211.0</td>\n",
       "      <td>0.575130</td>\n",
       "      <td>0.663866</td>\n",
       "      <td>3.0</td>\n",
       "      <td>1.0</td>\n",
       "      <td>1.0</td>\n",
       "      <td>4.393365</td>\n",
       "      <td>6.0</td>\n",
       "      <td>0.0</td>\n",
       "      <td>...</td>\n",
       "      <td>0.100000</td>\n",
       "      <td>1.0</td>\n",
       "      <td>-0.466667</td>\n",
       "      <td>-0.800</td>\n",
       "      <td>-0.133333</td>\n",
       "      <td>0.000000</td>\n",
       "      <td>0.000000</td>\n",
       "      <td>0.500000</td>\n",
       "      <td>0.000000</td>\n",
       "      <td>1500</td>\n",
       "    </tr>\n",
       "    <tr>\n",
       "      <th>3</th>\n",
       "      <td>9.0</td>\n",
       "      <td>531.0</td>\n",
       "      <td>0.503788</td>\n",
       "      <td>0.665635</td>\n",
       "      <td>9.0</td>\n",
       "      <td>0.0</td>\n",
       "      <td>1.0</td>\n",
       "      <td>4.404896</td>\n",
       "      <td>7.0</td>\n",
       "      <td>0.0</td>\n",
       "      <td>...</td>\n",
       "      <td>0.136364</td>\n",
       "      <td>0.8</td>\n",
       "      <td>-0.369697</td>\n",
       "      <td>-0.600</td>\n",
       "      <td>-0.166667</td>\n",
       "      <td>0.000000</td>\n",
       "      <td>0.000000</td>\n",
       "      <td>0.500000</td>\n",
       "      <td>0.000000</td>\n",
       "      <td>1200</td>\n",
       "    </tr>\n",
       "    <tr>\n",
       "      <th>4</th>\n",
       "      <td>13.0</td>\n",
       "      <td>1072.0</td>\n",
       "      <td>0.415646</td>\n",
       "      <td>0.540890</td>\n",
       "      <td>19.0</td>\n",
       "      <td>19.0</td>\n",
       "      <td>20.0</td>\n",
       "      <td>4.682836</td>\n",
       "      <td>7.0</td>\n",
       "      <td>0.0</td>\n",
       "      <td>...</td>\n",
       "      <td>0.033333</td>\n",
       "      <td>1.0</td>\n",
       "      <td>-0.220192</td>\n",
       "      <td>-0.500</td>\n",
       "      <td>-0.050000</td>\n",
       "      <td>0.454545</td>\n",
       "      <td>0.136364</td>\n",
       "      <td>0.045455</td>\n",
       "      <td>0.136364</td>\n",
       "      <td>505</td>\n",
       "    </tr>\n",
       "  </tbody>\n",
       "</table>\n",
       "<p>5 rows × 41 columns</p>\n",
       "</div>"
      ],
      "text/plain": [
       "   n_tokens_title  n_tokens_content  n_unique_tokens  \\\n",
       "0            12.0             219.0         0.663594   \n",
       "1             9.0             255.0         0.604743   \n",
       "2             9.0             211.0         0.575130   \n",
       "3             9.0             531.0         0.503788   \n",
       "4            13.0            1072.0         0.415646   \n",
       "\n",
       "   n_non_stop_unique_tokens  num_hrefs  num_self_hrefs  num_imgs  \\\n",
       "0                  0.815385        4.0             2.0       1.0   \n",
       "1                  0.791946        3.0             1.0       1.0   \n",
       "2                  0.663866        3.0             1.0       1.0   \n",
       "3                  0.665635        9.0             0.0       1.0   \n",
       "4                  0.540890       19.0            19.0      20.0   \n",
       "\n",
       "   average_token_length  num_keywords  kw_max_min   ...    \\\n",
       "0              4.680365           5.0         0.0   ...     \n",
       "1              4.913725           4.0         0.0   ...     \n",
       "2              4.393365           6.0         0.0   ...     \n",
       "3              4.404896           7.0         0.0   ...     \n",
       "4              4.682836           7.0         0.0   ...     \n",
       "\n",
       "   min_positive_polarity  max_positive_polarity  avg_negative_polarity  \\\n",
       "0               0.100000                    0.7              -0.350000   \n",
       "1               0.033333                    0.7              -0.118750   \n",
       "2               0.100000                    1.0              -0.466667   \n",
       "3               0.136364                    0.8              -0.369697   \n",
       "4               0.033333                    1.0              -0.220192   \n",
       "\n",
       "   min_negative_polarity  max_negative_polarity  title_subjectivity  \\\n",
       "0                 -0.600              -0.200000            0.500000   \n",
       "1                 -0.125              -0.100000            0.000000   \n",
       "2                 -0.800              -0.133333            0.000000   \n",
       "3                 -0.600              -0.166667            0.000000   \n",
       "4                 -0.500              -0.050000            0.454545   \n",
       "\n",
       "   title_sentiment_polarity  abs_title_subjectivity  \\\n",
       "0                 -0.187500                0.000000   \n",
       "1                  0.000000                0.500000   \n",
       "2                  0.000000                0.500000   \n",
       "3                  0.000000                0.500000   \n",
       "4                  0.136364                0.045455   \n",
       "\n",
       "   abs_title_sentiment_polarity  shares  \n",
       "0                      0.187500     593  \n",
       "1                      0.000000     711  \n",
       "2                      0.000000    1500  \n",
       "3                      0.000000    1200  \n",
       "4                      0.136364     505  \n",
       "\n",
       "[5 rows x 41 columns]"
      ]
     },
     "execution_count": 3,
     "metadata": {},
     "output_type": "execute_result"
    }
   ],
   "source": [
    "data.head()"
   ]
  },
  {
   "cell_type": "code",
   "execution_count": 4,
   "metadata": {},
   "outputs": [],
   "source": [
    "kw_avg_avg = []\n",
    "kw_max_avg = []\n",
    "self_reference_min = []\n",
    "self_reference_avg = []\n",
    "self_reference_max = []\n",
    "LDA3 = []\n",
    "for kw in data['kw_avg_avg']:\n",
    "    kw_avg_avg.append(int(kw))\n",
    "for kw in data['kw_max_avg']:\n",
    "    kw_max_avg.append(int(kw))\n",
    "for self in data['self_reference_min_shares']:\n",
    "    self_reference_min.append(int(kw))\n",
    "for self in data['self_reference_avg_sharess']:\n",
    "    self_reference_avg.append(int(kw))\n",
    "for self in data['self_reference_max_shares']:\n",
    "    self_reference_max.append(int(kw))\n",
    "for lda in data['LDA_03']:\n",
    "    LDA3.append(int(lda * 100))"
   ]
  },
  {
   "cell_type": "code",
   "execution_count": 5,
   "metadata": {},
   "outputs": [],
   "source": [
    "from sklearn.linear_model import LinearRegression\n",
    "from sklearn.model_selection import train_test_split\n",
    "from sklearn.metrics import mean_absolute_error, mean_squared_error, explained_variance_score, r2_score"
   ]
  },
  {
   "cell_type": "code",
   "execution_count": 6,
   "metadata": {},
   "outputs": [],
   "source": [
    "X = list(zip(data['kw_avg_avg'], data['LDA_03'], data['kw_max_avg'], \n",
    "        data['self_reference_avg_sharess'], data['self_reference_min_shares'], data['self_reference_max_shares']))\n",
    "Y = np.array(data['shares'])\n",
    "\n",
    "X_train, X_test, Y_train, Y_test = train_test_split(X, Y, test_size=0.3, random_state=12)"
   ]
  },
  {
   "cell_type": "code",
   "execution_count": 7,
   "metadata": {},
   "outputs": [
    {
     "name": "stdout",
     "output_type": "stream",
     "text": [
      "mean_squared_error 10404766.424111\n",
      "mean_absolute_error 1910.773113\n",
      "explained_variance_score -24.995333\n",
      "r2_score -24.998009 \n"
     ]
    }
   ],
   "source": [
    "linear_regression = LinearRegression()\n",
    "linear_regression.fit(X_train, Y_train)\n",
    "Y_predict = linear_regression.predict(X_test)\n",
    "\n",
    "print('mean_squared_error %f' % mean_squared_error(Y_predict, Y_test))\n",
    "print('mean_absolute_error %f' % mean_absolute_error(Y_predict, Y_test))\n",
    "print('explained_variance_score %f' % explained_variance_score(Y_test))\n",
    "print('r2_score %f ' % r2_score(Y_test, Y_predict))"
   ]
  },
  {
   "cell_type": "code",
   "execution_count": 8,
   "metadata": {},
   "outputs": [
    {
     "data": {
      "text/plain": [
       "[<matplotlib.lines.Line2D at 0x7f61f34d5890>]"
      ]
     },
     "execution_count": 8,
     "metadata": {},
     "output_type": "execute_result"
    },
    {
     "data": {
      "image/png": "[encoded data removed]",
      "text/plain": [
       "<Figure size 432x288 with 1 Axes>"
      ]
     },
     "metadata": {
      "needs_background": "light"
     },
     "output_type": "display_data"
    }
   ],
   "source": [
    "plt.plot(np.linspace(-1, 1, 100), Y_test[:100], label='data', color='black')\n",
    "plt.plot(np.linspace(-1, 1, 100), Y_predict[:100], label='predicted', color='red')"
   ]
  },
  {
   "cell_type": "code",
   "execution_count": 9,
   "metadata": {},
   "outputs": [],
   "source": [
    "X = list(zip(kw_avg_avg, kw_max_avg, self_reference_min, self_reference_max, self_reference_avg, LDA3))\n",
    "Y = np.array(data['shares'])\n",
    "\n",
    "X_train, X_test, Y_train, Y_test = train_test_split(X, Y, test_size=0.3, random_state=12)"
   ]
  },
  {
   "cell_type": "code",
   "execution_count": 10,
   "metadata": {},
   "outputs": [
    {
     "name": "stdout",
     "output_type": "stream",
     "text": [
      "10433257.275504304\n",
      "1913.9970933602049\n",
      "-25.943022113114427\n"
     ]
    }
   ],
   "source": [
    "linear_regression2 = LinearRegression()\n",
    "linear_regression2.fit(X_train, Y_train)\n",
    "Y_predict = linear_regression2.predict(X_test)\n",
    "print(mean_squared_error(Y_predict, Y_test))\n",
    "print(mean_absolute_error(Y_predict, Y_test))\n",
    "print(r2_score(Y_predict, Y_test))"
   ]
  },
  {
   "cell_type": "code",
   "execution_count": 11,
   "metadata": {},
   "outputs": [
    {
     "data": {
      "text/plain": [
       "[<matplotlib.lines.Line2D at 0x7f61f1038910>]"
      ]
     },
     "execution_count": 11,
     "metadata": {},
     "output_type": "execute_result"
    },
    {
     "data": {
      "image/png": "[encoded data removed]",
      "text/plain": [
       "<Figure size 432x288 with 1 Axes>"
      ]
     },
     "metadata": {
      "needs_background": "light"
     },
     "output_type": "display_data"
    }
   ],
   "source": [
    "plt.plot(np.linspace(-1, 1, 100), Y_test[:100], label='data', color='black')\n",
    "plt.plot(np.linspace(-1, 1, 100), Y_predict[:100], label='predicted', color='red')"
   ]
  },
  {
   "cell_type": "code",
   "execution_count": null,
   "metadata": {},
   "outputs": [],
   "source": []
  }
 ],
 "metadata": {
  "kernelspec": {
   "display_name": "Python 3",
   "language": "python",
   "name": "python3"
  },
  "language_info": {
   "codemirror_mode": {
    "name": "ipython",
    "version": 2
   },
   "file_extension": ".py",
   "mimetype": "text/x-python",
   "name": "python",
   "nbconvert_exporter": "python",
   "pygments_lexer": "ipython2",
   "version": "2.7.13"
  }
 },
 "nbformat": 4,
 "nbformat_minor": 2
}
