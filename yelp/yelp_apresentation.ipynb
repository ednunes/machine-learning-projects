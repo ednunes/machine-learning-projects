{
 "cells": [
  {
   "cell_type": "markdown",
   "metadata": {},
   "source": [
    "# YELP DATASET"
   ]
  },
  {
   "cell_type": "code",
   "execution_count": 61,
   "metadata": {},
   "outputs": [],
   "source": [
    "import pandas as pd\n",
    "import numpy as np\n",
    "import seaborn as sns\n",
    "from sklearn.model_selection import train_test_split\n",
    "import matplotlib.pyplot as plt\n",
    "\n",
    "from sklearn.preprocessing import StandardScaler\n",
    "from sklearn.preprocessing import LabelEncoder\n",
    "\n",
    "%matplotlib inline"
   ]
  },
  {
   "cell_type": "code",
   "execution_count": 62,
   "metadata": {},
   "outputs": [],
   "source": [
    "business_df = pd.read_csv('dataset/business_las_vegas_restaurant_dataset.csv', sep=',', header=0)\n",
    "#review_df = pd.read_csv('dataset/review_las_vegas_restaurant_dataset.csv', sep=',', header=0)\n",
    "checkin_df = pd.read_csv('dataset/yelp_academic_dataset_checkin.csv', sep=',', header=0)"
   ]
  },
  {
   "cell_type": "code",
   "execution_count": 63,
   "metadata": {},
   "outputs": [],
   "source": [
    "dataframes = [business_df, checkin_df]\n",
    "\n",
    "#original_df = pd.concat(dataframes, sort=False, axis=1)\n",
    "original_df = pd.DataFrame(data=business_df)"
   ]
  },
  {
   "cell_type": "code",
   "execution_count": 64,
   "metadata": {},
   "outputs": [
    {
     "data": {
      "text/html": [
       "<div>\n",
       "<style scoped>\n",
       "    .dataframe tbody tr th:only-of-type {\n",
       "        vertical-align: middle;\n",
       "    }\n",
       "\n",
       "    .dataframe tbody tr th {\n",
       "        vertical-align: top;\n",
       "    }\n",
       "\n",
       "    .dataframe thead th {\n",
       "        text-align: right;\n",
       "    }\n",
       "</style>\n",
       "<table border=\"1\" class=\"dataframe\">\n",
       "  <thead>\n",
       "    <tr style=\"text-align: right;\">\n",
       "      <th></th>\n",
       "      <th>business_id</th>\n",
       "      <th>is_open</th>\n",
       "      <th>latitude</th>\n",
       "      <th>longitude</th>\n",
       "      <th>postal_code</th>\n",
       "      <th>review_count</th>\n",
       "      <th>stars</th>\n",
       "    </tr>\n",
       "  </thead>\n",
       "  <tbody>\n",
       "    <tr>\n",
       "      <th>0</th>\n",
       "      <td>vJIuDBdu01vCA8y1fwR1OQ</td>\n",
       "      <td>0</td>\n",
       "      <td>36.192284</td>\n",
       "      <td>-115.159272</td>\n",
       "      <td>89106.0</td>\n",
       "      <td>3</td>\n",
       "      <td>1.5</td>\n",
       "    </tr>\n",
       "    <tr>\n",
       "      <th>1</th>\n",
       "      <td>kgffcoxT6BQp-gJ-UQ7Czw</td>\n",
       "      <td>1</td>\n",
       "      <td>36.201794</td>\n",
       "      <td>-115.281981</td>\n",
       "      <td>89128.0</td>\n",
       "      <td>13</td>\n",
       "      <td>2.5</td>\n",
       "    </tr>\n",
       "    <tr>\n",
       "      <th>2</th>\n",
       "      <td>0jtRI7hVMpQHpUVtUy4ITw</td>\n",
       "      <td>1</td>\n",
       "      <td>36.201990</td>\n",
       "      <td>-115.283122</td>\n",
       "      <td>89128.0</td>\n",
       "      <td>242</td>\n",
       "      <td>4.0</td>\n",
       "    </tr>\n",
       "    <tr>\n",
       "      <th>3</th>\n",
       "      <td>JJEx5wIqs9iGGATOagE8Sg</td>\n",
       "      <td>0</td>\n",
       "      <td>36.271169</td>\n",
       "      <td>-115.267759</td>\n",
       "      <td>89149.0</td>\n",
       "      <td>4</td>\n",
       "      <td>2.0</td>\n",
       "    </tr>\n",
       "    <tr>\n",
       "      <th>4</th>\n",
       "      <td>zhxnD7J5_sCrKSw5cwI9dQ</td>\n",
       "      <td>1</td>\n",
       "      <td>36.173140</td>\n",
       "      <td>-115.077945</td>\n",
       "      <td>89110.0</td>\n",
       "      <td>16</td>\n",
       "      <td>1.5</td>\n",
       "    </tr>\n",
       "  </tbody>\n",
       "</table>\n",
       "</div>"
      ],
      "text/plain": [
       "              business_id  is_open   latitude   longitude  postal_code  \\\n",
       "0  vJIuDBdu01vCA8y1fwR1OQ        0  36.192284 -115.159272      89106.0   \n",
       "1  kgffcoxT6BQp-gJ-UQ7Czw        1  36.201794 -115.281981      89128.0   \n",
       "2  0jtRI7hVMpQHpUVtUy4ITw        1  36.201990 -115.283122      89128.0   \n",
       "3  JJEx5wIqs9iGGATOagE8Sg        0  36.271169 -115.267759      89149.0   \n",
       "4  zhxnD7J5_sCrKSw5cwI9dQ        1  36.173140 -115.077945      89110.0   \n",
       "\n",
       "   review_count  stars  \n",
       "0             3    1.5  \n",
       "1            13    2.5  \n",
       "2           242    4.0  \n",
       "3             4    2.0  \n",
       "4            16    1.5  "
      ]
     },
     "execution_count": 64,
     "metadata": {},
     "output_type": "execute_result"
    }
   ],
   "source": [
    "original_df.head()"
   ]
  },
  {
   "cell_type": "code",
   "execution_count": 65,
   "metadata": {},
   "outputs": [
    {
     "data": {
      "text/plain": [
       "'\\nreview_df\\n\\nqtd = 0\\nstar = 0\\n\\nfor index, x in review_df.iterrows():\\n    if x[\"business_id\"] == \"kgffcoxT6BQp-gJ-UQ7Czw\":\\n        qtd+=1\\n        star += x[\"stars\"]\\n    \\nprint(qtd, star, star/qtd)\\n'"
      ]
     },
     "execution_count": 65,
     "metadata": {},
     "output_type": "execute_result"
    }
   ],
   "source": [
    "\"\"\"\n",
    "review_df\n",
    "\n",
    "qtd = 0\n",
    "star = 0\n",
    "\n",
    "for index, x in review_df.iterrows():\n",
    "    if x[\"business_id\"] == \"kgffcoxT6BQp-gJ-UQ7Czw\":\n",
    "        qtd+=1\n",
    "        star += x[\"stars\"]\n",
    "    \n",
    "print(qtd, star, star/qtd)\n",
    "\"\"\""
   ]
  },
  {
   "cell_type": "code",
   "execution_count": 67,
   "metadata": {},
   "outputs": [],
   "source": [
    "X = list(zip(original_df['stars'], original_df['review_count']))\n",
    "Y = np.array(original_df['is_open'])\n",
    "\n",
    "x_train, x_test, y_train, y_test = train_test_split(X, Y, test_size=0.3, random_state=12)"
   ]
  },
  {
   "cell_type": "code",
   "execution_count": 76,
   "metadata": {},
   "outputs": [
    {
     "name": "stdout",
     "output_type": "stream",
     "text": [
      "0.733921523101927 \n",
      "\n",
      "[[271 393]\n",
      " [245 937]] \n",
      "\n",
      "             precision    recall  f1-score   support\n",
      "\n",
      "          0       0.53      0.41      0.46       664\n",
      "          1       0.70      0.79      0.75      1182\n",
      "\n",
      "avg / total       0.64      0.65      0.64      1846\n",
      "\n"
     ]
    }
   ],
   "source": [
    "from sklearn.neighbors import KNeighborsClassifier\n",
    "from sklearn.metrics import classification_report, confusion_matrix\n",
    "\n",
    "#caler = StandardScaler()  \n",
    "#caler.fit(x_train)\n",
    "\n",
    "# gradient descent algorithm \n",
    "#_train = scaler.transform(x_train)  \n",
    "#_test = scaler.transform(x_test)  \n",
    "\n",
    "def knn(x_train, y_train, k):\n",
    "    model = KNeighborsClassifier(n_neighbors=k)\n",
    "    model.fit(x_train, y_train)\n",
    "    return model\n",
    "\n",
    "model = knn(x_train, y_train, 5)\n",
    "\n",
    "predicted = model.predict(x_test)\n",
    "\n",
    "print(model.score(x_train, y_train),\"\\n\")\n",
    "\n",
    "print(confusion_matrix(y_test, predicted),\"\\n\")\n",
    "\n",
    "print(classification_report(y_test, predicted))"
   ]
  },
  {
   "cell_type": "code",
   "execution_count": 33,
   "metadata": {},
   "outputs": [
    {
     "data": {
      "text/plain": [
       "2"
      ]
     },
     "execution_count": 33,
     "metadata": {},
     "output_type": "execute_result"
    }
   ],
   "source": [
    "#import math\n",
    "#math.floor(2.6923076923076925)"
   ]
  },
  {
   "cell_type": "code",
   "execution_count": null,
   "metadata": {},
   "outputs": [],
   "source": []
  }
 ],
 "metadata": {
  "kernelspec": {
   "display_name": "Python 3",
   "language": "python",
   "name": "python3"
  },
  "language_info": {
   "codemirror_mode": {
    "name": "ipython",
    "version": 3
   },
   "file_extension": ".py",
   "mimetype": "text/x-python",
   "name": "python",
   "nbconvert_exporter": "python",
   "pygments_lexer": "ipython3",
   "version": "3.6.7"
  }
 },
 "nbformat": 4,
 "nbformat_minor": 2
}
